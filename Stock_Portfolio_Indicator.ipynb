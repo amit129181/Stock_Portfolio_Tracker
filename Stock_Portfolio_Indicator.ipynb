{
 "cells": [
  {
   "cell_type": "code",
   "execution_count": 1,
   "id": "f56c8044-7d36-4a2c-a464-df97c1221eea",
   "metadata": {},
   "outputs": [
    {
     "name": "stdout",
     "output_type": "stream",
     "text": [
      "Welcome to Stock Portfolio Tracker!\n",
      "Available stocks and their prices:\n",
      "AAPL: $180\n",
      "TSLA: $250\n",
      "MSFT: $300\n",
      "GOOGL: $2800\n",
      "AMZN: $3500\n"
     ]
    },
    {
     "name": "stdin",
     "output_type": "stream",
     "text": [
      "\n",
      "Enter stock symbol (or 'done' to finish):  AAPL\n",
      "Enter quantity for AAPL:  180\n",
      "\n",
      "Enter stock symbol (or 'done' to finish):  DONE\n"
     ]
    },
    {
     "name": "stdout",
     "output_type": "stream",
     "text": [
      "\n",
      " Portfolio Summary:\n",
      "AAPL - 180 shares @ $180 each = $32400\n",
      "\n",
      " Total Investment Value: $32400\n"
     ]
    },
    {
     "name": "stdin",
     "output_type": "stream",
     "text": [
      "\n",
      "Do you want to save the result? (yes/no):  yes\n",
      "Save as 'txt' or 'csv'?:  csv\n"
     ]
    },
    {
     "name": "stdout",
     "output_type": "stream",
     "text": [
      "Saved as portfolio.csv\n"
     ]
    }
   ],
   "source": [
    "import csv\n",
    "\n",
    "# Hardcoded stock prices dictionary\n",
    "stock_prices = {\n",
    "    \"AAPL\": 180,\n",
    "    \"TSLA\": 250,\n",
    "    \"MSFT\": 300,\n",
    "    \"GOOGL\": 2800,\n",
    "    \"AMZN\": 3500\n",
    "}\n",
    "\n",
    "def stock_portfolio_tracker():\n",
    "    portfolio = {}\n",
    "    total_investment = 0\n",
    "\n",
    "    print(\"Welcome to Stock Portfolio Tracker!\")\n",
    "    print(\"Available stocks and their prices:\")\n",
    "    for stock, price in stock_prices.items():\n",
    "        print(f\"{stock}: ${price}\")\n",
    "\n",
    "    while True:\n",
    "        stock_name = input(\"\\nEnter stock symbol (or 'done' to finish): \").upper()\n",
    "        if stock_name == \"DONE\":\n",
    "            break\n",
    "        if stock_name not in stock_prices:\n",
    "            print(\"Stock not found! Please enter a valid symbol.\")\n",
    "            continue\n",
    "\n",
    "        try:\n",
    "            quantity = int(input(f\"Enter quantity for {stock_name}: \"))\n",
    "        except ValueError:\n",
    "            print(\"Invalid quantity. Please enter a number.\")\n",
    "            continue\n",
    "\n",
    "        portfolio[stock_name] = portfolio.get(stock_name, 0) + quantity\n",
    "        total_investment += stock_prices[stock_name] * quantity\n",
    "\n",
    "    print(\"\\n Portfolio Summary:\")\n",
    "    for stock, qty in portfolio.items():\n",
    "        print(f\"{stock} - {qty} shares @ ${stock_prices[stock]} each = ${stock_prices[stock] * qty}\")\n",
    "\n",
    "    print(f\"\\n Total Investment Value: ${total_investment}\")\n",
    "\n",
    "    # Optional: Save result to file\n",
    "    save_choice = input(\"\\nDo you want to save the result? (yes/no): \").lower()\n",
    "    if save_choice == \"yes\":\n",
    "        file_type = input(\"Save as 'txt' or 'csv'?: \").lower()\n",
    "        \n",
    "        if file_type == \"txt\":\n",
    "            with open(\"portfolio.txt\", \"w\") as f:\n",
    "                f.write(\"Portfolio Summary:\\n\")\n",
    "                for stock, qty in portfolio.items():\n",
    "                    f.write(f\"{stock} - {qty} shares @ ${stock_prices[stock]} = ${stock_prices[stock] * qty}\\n\")\n",
    "                f.write(f\"\\nTotal Investment Value: ${total_investment}\\n\")\n",
    "            print(\"📄 Saved as portfolio.txt\")\n",
    "\n",
    "        elif file_type == \"csv\":\n",
    "            with open(\"portfolio.csv\", \"w\", newline=\"\") as f:\n",
    "                writer = csv.writer(f)\n",
    "                writer.writerow([\"Stock\", \"Quantity\", \"Price\", \"Total Value\"])\n",
    "                for stock, qty in portfolio.items():\n",
    "                    writer.writerow([stock, qty, stock_prices[stock], stock_prices[stock] * qty])\n",
    "                writer.writerow([\"TOTAL\", \"\", \"\", total_investment])\n",
    "            print(\"Saved as portfolio.csv\")\n",
    "\n",
    "        else:\n",
    "            print(\"Invalid choice. File not saved.\")\n",
    "\n",
    "# Run the program\n",
    "if __name__ == \"__main__\":\n",
    "    stock_portfolio_tracker()\n"
   ]
  },
  {
   "cell_type": "code",
   "execution_count": null,
   "id": "fea48386-22be-4f6f-8ee9-baf7c2df3e23",
   "metadata": {},
   "outputs": [],
   "source": []
  }
 ],
 "metadata": {
  "kernelspec": {
   "display_name": "Python 3 (ipykernel)",
   "language": "python",
   "name": "python3"
  },
  "language_info": {
   "codemirror_mode": {
    "name": "ipython",
    "version": 3
   },
   "file_extension": ".py",
   "mimetype": "text/x-python",
   "name": "python",
   "nbconvert_exporter": "python",
   "pygments_lexer": "ipython3",
   "version": "3.13.1"
  }
 },
 "nbformat": 4,
 "nbformat_minor": 5
}
